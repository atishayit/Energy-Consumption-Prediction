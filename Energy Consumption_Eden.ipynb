{
 "cells": [
  {
   "cell_type": "markdown",
   "metadata": {},
   "source": [
    "## IMPORTING LIBRARIES "
   ]
  },
  {
   "cell_type": "code",
   "execution_count": 1,
   "metadata": {},
   "outputs": [],
   "source": [
    "import pandas as pd\n",
    "import numpy as np\n",
    "import matplotlib.pyplot as plt\n",
    "%matplotlib inline\n",
    "import seaborn as sns"
   ]
  },
  {
   "cell_type": "markdown",
   "metadata": {},
   "source": [
    "## DATASET "
   ]
  },
  {
   "cell_type": "code",
   "execution_count": 2,
   "metadata": {},
   "outputs": [
    {
     "data": {
      "text/html": [
       "<div>\n",
       "<style scoped>\n",
       "    .dataframe tbody tr th:only-of-type {\n",
       "        vertical-align: middle;\n",
       "    }\n",
       "\n",
       "    .dataframe tbody tr th {\n",
       "        vertical-align: top;\n",
       "    }\n",
       "\n",
       "    .dataframe thead th {\n",
       "        text-align: right;\n",
       "    }\n",
       "</style>\n",
       "<table border=\"1\" class=\"dataframe\">\n",
       "  <thead>\n",
       "    <tr style=\"text-align: right;\">\n",
       "      <th></th>\n",
       "      <th>Datetime</th>\n",
       "      <th>AEP_MW</th>\n",
       "    </tr>\n",
       "  </thead>\n",
       "  <tbody>\n",
       "    <tr>\n",
       "      <th>0</th>\n",
       "      <td>2004-12-31 01:00:00</td>\n",
       "      <td>13478.0</td>\n",
       "    </tr>\n",
       "    <tr>\n",
       "      <th>1</th>\n",
       "      <td>2004-12-31 02:00:00</td>\n",
       "      <td>12865.0</td>\n",
       "    </tr>\n",
       "    <tr>\n",
       "      <th>2</th>\n",
       "      <td>2004-12-31 03:00:00</td>\n",
       "      <td>12577.0</td>\n",
       "    </tr>\n",
       "    <tr>\n",
       "      <th>3</th>\n",
       "      <td>2004-12-31 04:00:00</td>\n",
       "      <td>12517.0</td>\n",
       "    </tr>\n",
       "    <tr>\n",
       "      <th>4</th>\n",
       "      <td>2004-12-31 05:00:00</td>\n",
       "      <td>12670.0</td>\n",
       "    </tr>\n",
       "  </tbody>\n",
       "</table>\n",
       "</div>"
      ],
      "text/plain": [
       "              Datetime   AEP_MW\n",
       "0  2004-12-31 01:00:00  13478.0\n",
       "1  2004-12-31 02:00:00  12865.0\n",
       "2  2004-12-31 03:00:00  12577.0\n",
       "3  2004-12-31 04:00:00  12517.0\n",
       "4  2004-12-31 05:00:00  12670.0"
      ]
     },
     "execution_count": 2,
     "metadata": {},
     "output_type": "execute_result"
    }
   ],
   "source": [
    "df = pd.read_csv(\"AEP_hourly.csv\")\n",
    "df.head()"
   ]
  },
  {
   "cell_type": "code",
   "execution_count": 3,
   "metadata": {},
   "outputs": [
    {
     "name": "stdout",
     "output_type": "stream",
     "text": [
      "<class 'pandas.core.frame.DataFrame'>\n",
      "RangeIndex: 121273 entries, 0 to 121272\n",
      "Data columns (total 2 columns):\n",
      " #   Column    Non-Null Count   Dtype  \n",
      "---  ------    --------------   -----  \n",
      " 0   Datetime  121273 non-null  object \n",
      " 1   AEP_MW    121273 non-null  float64\n",
      "dtypes: float64(1), object(1)\n",
      "memory usage: 1.9+ MB\n"
     ]
    }
   ],
   "source": [
    "df.info()"
   ]
  },
  {
   "cell_type": "code",
   "execution_count": 4,
   "metadata": {},
   "outputs": [
    {
     "data": {
      "text/html": [
       "<div>\n",
       "<style scoped>\n",
       "    .dataframe tbody tr th:only-of-type {\n",
       "        vertical-align: middle;\n",
       "    }\n",
       "\n",
       "    .dataframe tbody tr th {\n",
       "        vertical-align: top;\n",
       "    }\n",
       "\n",
       "    .dataframe thead th {\n",
       "        text-align: right;\n",
       "    }\n",
       "</style>\n",
       "<table border=\"1\" class=\"dataframe\">\n",
       "  <thead>\n",
       "    <tr style=\"text-align: right;\">\n",
       "      <th></th>\n",
       "      <th>AEP_MW</th>\n",
       "    </tr>\n",
       "  </thead>\n",
       "  <tbody>\n",
       "    <tr>\n",
       "      <th>count</th>\n",
       "      <td>121273.000000</td>\n",
       "    </tr>\n",
       "    <tr>\n",
       "      <th>mean</th>\n",
       "      <td>15499.513717</td>\n",
       "    </tr>\n",
       "    <tr>\n",
       "      <th>std</th>\n",
       "      <td>2591.399065</td>\n",
       "    </tr>\n",
       "    <tr>\n",
       "      <th>min</th>\n",
       "      <td>9581.000000</td>\n",
       "    </tr>\n",
       "    <tr>\n",
       "      <th>25%</th>\n",
       "      <td>13630.000000</td>\n",
       "    </tr>\n",
       "    <tr>\n",
       "      <th>50%</th>\n",
       "      <td>15310.000000</td>\n",
       "    </tr>\n",
       "    <tr>\n",
       "      <th>75%</th>\n",
       "      <td>17200.000000</td>\n",
       "    </tr>\n",
       "    <tr>\n",
       "      <th>max</th>\n",
       "      <td>25695.000000</td>\n",
       "    </tr>\n",
       "  </tbody>\n",
       "</table>\n",
       "</div>"
      ],
      "text/plain": [
       "              AEP_MW\n",
       "count  121273.000000\n",
       "mean    15499.513717\n",
       "std      2591.399065\n",
       "min      9581.000000\n",
       "25%     13630.000000\n",
       "50%     15310.000000\n",
       "75%     17200.000000\n",
       "max     25695.000000"
      ]
     },
     "execution_count": 4,
     "metadata": {},
     "output_type": "execute_result"
    }
   ],
   "source": [
    "df.describe()"
   ]
  },
  {
   "cell_type": "code",
   "execution_count": 5,
   "metadata": {},
   "outputs": [
    {
     "data": {
      "text/plain": [
       "Datetime    0\n",
       "AEP_MW      0\n",
       "dtype: int64"
      ]
     },
     "execution_count": 5,
     "metadata": {},
     "output_type": "execute_result"
    }
   ],
   "source": [
    "df.isnull().sum()"
   ]
  },
  {
   "cell_type": "markdown",
   "metadata": {},
   "source": [
    "## DIVIDING DATETIME INDEX"
   ]
  },
  {
   "cell_type": "code",
   "execution_count": 6,
   "metadata": {},
   "outputs": [
    {
     "name": "stderr",
     "output_type": "stream",
     "text": [
      "<ipython-input-6-84bc5875fbe8>:9: FutureWarning: Series.dt.weekofyear and Series.dt.week have been deprecated.  Please use Series.dt.isocalendar().week instead.\n",
      "  new_df[\"Week\"] = pd.to_datetime(df[\"Datetime\"]).dt.week\n"
     ]
    },
    {
     "data": {
      "text/html": [
       "<div>\n",
       "<style scoped>\n",
       "    .dataframe tbody tr th:only-of-type {\n",
       "        vertical-align: middle;\n",
       "    }\n",
       "\n",
       "    .dataframe tbody tr th {\n",
       "        vertical-align: top;\n",
       "    }\n",
       "\n",
       "    .dataframe thead th {\n",
       "        text-align: right;\n",
       "    }\n",
       "</style>\n",
       "<table border=\"1\" class=\"dataframe\">\n",
       "  <thead>\n",
       "    <tr style=\"text-align: right;\">\n",
       "      <th></th>\n",
       "      <th>AEP_MW</th>\n",
       "      <th>Day</th>\n",
       "      <th>Month</th>\n",
       "      <th>Year</th>\n",
       "      <th>Date</th>\n",
       "      <th>Time</th>\n",
       "      <th>Week</th>\n",
       "    </tr>\n",
       "    <tr>\n",
       "      <th>Datetime</th>\n",
       "      <th></th>\n",
       "      <th></th>\n",
       "      <th></th>\n",
       "      <th></th>\n",
       "      <th></th>\n",
       "      <th></th>\n",
       "      <th></th>\n",
       "    </tr>\n",
       "  </thead>\n",
       "  <tbody>\n",
       "    <tr>\n",
       "      <th>2004-12-31 01:00:00</th>\n",
       "      <td>13478.0</td>\n",
       "      <td>Friday</td>\n",
       "      <td>12</td>\n",
       "      <td>2004</td>\n",
       "      <td>2004-12-31</td>\n",
       "      <td>01:00:00</td>\n",
       "      <td>53</td>\n",
       "    </tr>\n",
       "    <tr>\n",
       "      <th>2004-12-31 02:00:00</th>\n",
       "      <td>12865.0</td>\n",
       "      <td>Friday</td>\n",
       "      <td>12</td>\n",
       "      <td>2004</td>\n",
       "      <td>2004-12-31</td>\n",
       "      <td>02:00:00</td>\n",
       "      <td>53</td>\n",
       "    </tr>\n",
       "    <tr>\n",
       "      <th>2004-12-31 03:00:00</th>\n",
       "      <td>12577.0</td>\n",
       "      <td>Friday</td>\n",
       "      <td>12</td>\n",
       "      <td>2004</td>\n",
       "      <td>2004-12-31</td>\n",
       "      <td>03:00:00</td>\n",
       "      <td>53</td>\n",
       "    </tr>\n",
       "    <tr>\n",
       "      <th>2004-12-31 04:00:00</th>\n",
       "      <td>12517.0</td>\n",
       "      <td>Friday</td>\n",
       "      <td>12</td>\n",
       "      <td>2004</td>\n",
       "      <td>2004-12-31</td>\n",
       "      <td>04:00:00</td>\n",
       "      <td>53</td>\n",
       "    </tr>\n",
       "    <tr>\n",
       "      <th>2004-12-31 05:00:00</th>\n",
       "      <td>12670.0</td>\n",
       "      <td>Friday</td>\n",
       "      <td>12</td>\n",
       "      <td>2004</td>\n",
       "      <td>2004-12-31</td>\n",
       "      <td>05:00:00</td>\n",
       "      <td>53</td>\n",
       "    </tr>\n",
       "  </tbody>\n",
       "</table>\n",
       "</div>"
      ],
      "text/plain": [
       "                      AEP_MW     Day  Month  Year        Date      Time  Week\n",
       "Datetime                                                                     \n",
       "2004-12-31 01:00:00  13478.0  Friday     12  2004  2004-12-31  01:00:00    53\n",
       "2004-12-31 02:00:00  12865.0  Friday     12  2004  2004-12-31  02:00:00    53\n",
       "2004-12-31 03:00:00  12577.0  Friday     12  2004  2004-12-31  03:00:00    53\n",
       "2004-12-31 04:00:00  12517.0  Friday     12  2004  2004-12-31  04:00:00    53\n",
       "2004-12-31 05:00:00  12670.0  Friday     12  2004  2004-12-31  05:00:00    53"
      ]
     },
     "execution_count": 6,
     "metadata": {},
     "output_type": "execute_result"
    }
   ],
   "source": [
    "new_df = df\n",
    "#Creating new columns named as Month, Year, Date, Time, Week and Day and extracting fields from Datetime column\n",
    "\n",
    "new_df[\"Day\"] = pd.to_datetime(df[\"Datetime\"]).dt.day_name()\n",
    "new_df[\"Month\"] = pd.to_datetime(df[\"Datetime\"]).dt.month\n",
    "new_df[\"Year\"] = pd.to_datetime(df[\"Datetime\"]).dt.year\n",
    "new_df[\"Date\"] = pd.to_datetime(df[\"Datetime\"]).dt.date\n",
    "new_df[\"Time\"] = pd.to_datetime(df[\"Datetime\"]).dt.time\n",
    "new_df[\"Week\"] = pd.to_datetime(df[\"Datetime\"]).dt.week\n",
    "\n",
    "#Setting the index to Datetime\n",
    "new_df = df.set_index(\"Datetime\")\n",
    "\n",
    "new_df.head()"
   ]
  },
  {
   "cell_type": "code",
   "execution_count": 7,
   "metadata": {},
   "outputs": [
    {
     "data": {
      "text/plain": [
       "array([2004, 2005, 2006, 2007, 2008, 2009, 2010, 2011, 2012, 2013, 2014,\n",
       "       2015, 2016, 2017, 2018], dtype=int64)"
      ]
     },
     "execution_count": 7,
     "metadata": {},
     "output_type": "execute_result"
    }
   ],
   "source": [
    "#Total number of unique years\n",
    "df.Year.unique()"
   ]
  },
  {
   "cell_type": "markdown",
   "metadata": {},
   "source": [
    "## VISUALISING ENERGY CONSUMPTION PER YEAR"
   ]
  },
  {
   "cell_type": "code",
   "execution_count": 8,
   "metadata": {},
   "outputs": [
    {
     "data": {
      "text/plain": [
       "['Solarize_Light2',\n",
       " '_classic_test_patch',\n",
       " 'bmh',\n",
       " 'classic',\n",
       " 'dark_background',\n",
       " 'fast',\n",
       " 'fivethirtyeight',\n",
       " 'ggplot',\n",
       " 'grayscale',\n",
       " 'seaborn',\n",
       " 'seaborn-bright',\n",
       " 'seaborn-colorblind',\n",
       " 'seaborn-dark',\n",
       " 'seaborn-dark-palette',\n",
       " 'seaborn-darkgrid',\n",
       " 'seaborn-deep',\n",
       " 'seaborn-muted',\n",
       " 'seaborn-notebook',\n",
       " 'seaborn-paper',\n",
       " 'seaborn-pastel',\n",
       " 'seaborn-poster',\n",
       " 'seaborn-talk',\n",
       " 'seaborn-ticks',\n",
       " 'seaborn-white',\n",
       " 'seaborn-whitegrid',\n",
       " 'tableau-colorblind10']"
      ]
     },
     "execution_count": 8,
     "metadata": {},
     "output_type": "execute_result"
    }
   ],
   "source": [
    "plt.style.available"
   ]
  },
  {
   "cell_type": "code",
   "execution_count": 9,
   "metadata": {},
   "outputs": [
    {
     "name": "stderr",
     "output_type": "stream",
     "text": [
      "No handles with labels found to put in legend.\n"
     ]
    },
    {
     "data": {
      "text/plain": [
       "Text(0.5, 1.0, 'Energy Consumption According to Year')"
      ]
     },
     "execution_count": 9,
     "metadata": {},
     "output_type": "execute_result"
    },
    {
     "data": {
      "image/png": "[encoded data removed]",
      "text/plain": [
       "<Figure size 432x288 with 1 Axes>"
      ]
     },
     "metadata": {
      "needs_background": "light"
     },
     "output_type": "display_data"
    }
   ],
   "source": [
    "sns.lineplot(x=new_df[\"Year\"], y=new_df[\"AEP_MW\"], data=new_df)\n",
    "\n",
    "plt.xlabel(\"\\nYear\")\n",
    "plt.ylabel(\"Energy (MegaWatt)\\n\")\n",
    "plt.grid(True)\n",
    "plt.legend()\n",
    "\n",
    "plt.title(\"Energy Consumption According to Year\")"
   ]
  },
  {
   "cell_type": "markdown",
   "metadata": {},
   "source": [
    "## VISUALISING ENERGY CONSUMPTION WITH TIME"
   ]
  },
  {
   "cell_type": "code",
   "execution_count": 10,
   "metadata": {},
   "outputs": [],
   "source": [
    "pd.plotting.register_matplotlib_converters()"
   ]
  },
  {
   "cell_type": "code",
   "execution_count": 11,
   "metadata": {},
   "outputs": [
    {
     "name": "stderr",
     "output_type": "stream",
     "text": [
      "No handles with labels found to put in legend.\n"
     ]
    },
    {
     "data": {
      "text/plain": [
       "<matplotlib.legend.Legend at 0x1715e3093a0>"
      ]
     },
     "execution_count": 11,
     "metadata": {},
     "output_type": "execute_result"
    },
    {
     "data": {
      "image/png": "[encoded data removed]",
      "text/plain": [
       "<Figure size 432x288 with 1 Axes>"
      ]
     },
     "metadata": {
      "needs_background": "light"
     },
     "output_type": "display_data"
    }
   ],
   "source": [
    "sns.lineplot(x=new_df[\"Time\"], y=new_df[\"AEP_MW\"], data=df)\n",
    "plt.title(\"Energy Consumption with Time \")\n",
    "plt.xlabel(\"\\nTime\")\n",
    "plt.grid(True)\n",
    "plt.legend()"
   ]
  },
  {
   "cell_type": "markdown",
   "metadata": {},
   "source": [
    "## RESAMPLING"
   ]
  },
  {
   "cell_type": "code",
   "execution_count": 12,
   "metadata": {},
   "outputs": [
    {
     "name": "stdout",
     "output_type": "stream",
     "text": [
      "                      AEP_MW      Day  Month  Year        Date      Time  Week\n",
      "Datetime                                                                      \n",
      "2004-12-31 01:00:00  13478.0   Friday     12  2004  2004-12-31  01:00:00    53\n",
      "2004-12-31 02:00:00  12865.0   Friday     12  2004  2004-12-31  02:00:00    53\n",
      "2004-12-31 03:00:00  12577.0   Friday     12  2004  2004-12-31  03:00:00    53\n",
      "2004-12-31 04:00:00  12517.0   Friday     12  2004  2004-12-31  04:00:00    53\n",
      "2004-12-31 05:00:00  12670.0   Friday     12  2004  2004-12-31  05:00:00    53\n",
      "...                      ...      ...    ...   ...         ...       ...   ...\n",
      "2018-01-01 20:00:00  21089.0   Monday      1  2018  2018-01-01  20:00:00     1\n",
      "2018-01-01 21:00:00  20999.0   Monday      1  2018  2018-01-01  21:00:00     1\n",
      "2018-01-01 22:00:00  20820.0   Monday      1  2018  2018-01-01  22:00:00     1\n",
      "2018-01-01 23:00:00  20415.0   Monday      1  2018  2018-01-01  23:00:00     1\n",
      "2018-01-02 00:00:00  19993.0  Tuesday      1  2018  2018-01-02  00:00:00     1\n",
      "\n",
      "[121273 rows x 7 columns]\n"
     ]
    },
    {
     "data": {
      "text/html": [
       "<div>\n",
       "<style scoped>\n",
       "    .dataframe tbody tr th:only-of-type {\n",
       "        vertical-align: middle;\n",
       "    }\n",
       "\n",
       "    .dataframe tbody tr th {\n",
       "        vertical-align: top;\n",
       "    }\n",
       "\n",
       "    .dataframe thead th {\n",
       "        text-align: right;\n",
       "    }\n",
       "</style>\n",
       "<table border=\"1\" class=\"dataframe\">\n",
       "  <thead>\n",
       "    <tr style=\"text-align: right;\">\n",
       "      <th></th>\n",
       "      <th>AEP_MW</th>\n",
       "      <th>Month</th>\n",
       "      <th>Year</th>\n",
       "      <th>Week</th>\n",
       "    </tr>\n",
       "    <tr>\n",
       "      <th>Datetime</th>\n",
       "      <th></th>\n",
       "      <th></th>\n",
       "      <th></th>\n",
       "      <th></th>\n",
       "    </tr>\n",
       "  </thead>\n",
       "  <tbody>\n",
       "    <tr>\n",
       "      <th>2004-10-01</th>\n",
       "      <td>14284.521739</td>\n",
       "      <td>10</td>\n",
       "      <td>2004</td>\n",
       "      <td>40</td>\n",
       "    </tr>\n",
       "    <tr>\n",
       "      <th>2004-10-02</th>\n",
       "      <td>12999.875000</td>\n",
       "      <td>10</td>\n",
       "      <td>2004</td>\n",
       "      <td>40</td>\n",
       "    </tr>\n",
       "    <tr>\n",
       "      <th>2004-10-03</th>\n",
       "      <td>12227.083333</td>\n",
       "      <td>10</td>\n",
       "      <td>2004</td>\n",
       "      <td>40</td>\n",
       "    </tr>\n",
       "    <tr>\n",
       "      <th>2004-10-04</th>\n",
       "      <td>14309.041667</td>\n",
       "      <td>10</td>\n",
       "      <td>2004</td>\n",
       "      <td>41</td>\n",
       "    </tr>\n",
       "    <tr>\n",
       "      <th>2004-10-05</th>\n",
       "      <td>14439.708333</td>\n",
       "      <td>10</td>\n",
       "      <td>2004</td>\n",
       "      <td>41</td>\n",
       "    </tr>\n",
       "    <tr>\n",
       "      <th>...</th>\n",
       "      <td>...</td>\n",
       "      <td>...</td>\n",
       "      <td>...</td>\n",
       "      <td>...</td>\n",
       "    </tr>\n",
       "    <tr>\n",
       "      <th>2018-07-30</th>\n",
       "      <td>15368.083333</td>\n",
       "      <td>7</td>\n",
       "      <td>2018</td>\n",
       "      <td>31</td>\n",
       "    </tr>\n",
       "    <tr>\n",
       "      <th>2018-07-31</th>\n",
       "      <td>15180.291667</td>\n",
       "      <td>7</td>\n",
       "      <td>2018</td>\n",
       "      <td>31</td>\n",
       "    </tr>\n",
       "    <tr>\n",
       "      <th>2018-08-01</th>\n",
       "      <td>15151.166667</td>\n",
       "      <td>8</td>\n",
       "      <td>2018</td>\n",
       "      <td>31</td>\n",
       "    </tr>\n",
       "    <tr>\n",
       "      <th>2018-08-02</th>\n",
       "      <td>15687.666667</td>\n",
       "      <td>8</td>\n",
       "      <td>2018</td>\n",
       "      <td>31</td>\n",
       "    </tr>\n",
       "    <tr>\n",
       "      <th>2018-08-03</th>\n",
       "      <td>14809.000000</td>\n",
       "      <td>8</td>\n",
       "      <td>2018</td>\n",
       "      <td>31</td>\n",
       "    </tr>\n",
       "  </tbody>\n",
       "</table>\n",
       "<p>5055 rows × 4 columns</p>\n",
       "</div>"
      ],
      "text/plain": [
       "                  AEP_MW  Month  Year  Week\n",
       "Datetime                                   \n",
       "2004-10-01  14284.521739     10  2004    40\n",
       "2004-10-02  12999.875000     10  2004    40\n",
       "2004-10-03  12227.083333     10  2004    40\n",
       "2004-10-04  14309.041667     10  2004    41\n",
       "2004-10-05  14439.708333     10  2004    41\n",
       "...                  ...    ...   ...   ...\n",
       "2018-07-30  15368.083333      7  2018    31\n",
       "2018-07-31  15180.291667      7  2018    31\n",
       "2018-08-01  15151.166667      8  2018    31\n",
       "2018-08-02  15687.666667      8  2018    31\n",
       "2018-08-03  14809.000000      8  2018    31\n",
       "\n",
       "[5055 rows x 4 columns]"
      ]
     },
     "execution_count": 12,
     "metadata": {},
     "output_type": "execute_result"
    }
   ],
   "source": [
    "print(new_df)\n",
    "new_df.index = pd.to_datetime(new_df.index)\n",
    "NewDataSet = new_df.resample('D').mean()\n",
    "NewDataSet"
   ]
  },
  {
   "cell_type": "markdown",
   "metadata": {},
   "source": [
    "## TEST-TRAIN SPLITTING"
   ]
  },
  {
   "cell_type": "code",
   "execution_count": 13,
   "metadata": {},
   "outputs": [
    {
     "name": "stdout",
     "output_type": "stream",
     "text": [
      "                  AEP_MW\n",
      "Datetime                \n",
      "2004-10-01  14284.521739\n",
      "2004-10-02  12999.875000\n",
      "2004-10-03  12227.083333\n",
      "2004-10-04  14309.041667\n",
      "2004-10-05  14439.708333\n",
      "...                  ...\n",
      "2018-07-30  15368.083333\n",
      "2018-07-31  15180.291667\n",
      "2018-08-01  15151.166667\n",
      "2018-08-02  15687.666667\n",
      "2018-08-03  14809.000000\n",
      "\n",
      "[5055 rows x 1 columns]\n",
      "                  AEP_MW  Month  Year  Week\n",
      "Datetime                                   \n",
      "2018-04-26  13157.791667      4  2018    17\n",
      "2018-04-27  12964.000000      4  2018    17\n",
      "2018-04-28  12237.583333      4  2018    17\n",
      "2018-04-29  12156.791667      4  2018    17\n",
      "2018-04-30  13443.500000      4  2018    18\n",
      "...                  ...    ...   ...   ...\n",
      "2018-07-30  15368.083333      7  2018    31\n",
      "2018-07-31  15180.291667      7  2018    31\n",
      "2018-08-01  15151.166667      8  2018    31\n",
      "2018-08-02  15687.666667      8  2018    31\n",
      "2018-08-03  14809.000000      8  2018    31\n",
      "\n",
      "[100 rows x 4 columns]\n",
      "                  AEP_MW\n",
      "Datetime                \n",
      "2004-10-01  14284.521739\n",
      "2004-10-02  12999.875000\n",
      "2004-10-03  12227.083333\n",
      "2004-10-04  14309.041667\n",
      "2004-10-05  14439.708333\n",
      "...                  ...\n",
      "2018-05-31  16741.083333\n",
      "2018-06-01  15734.666667\n",
      "2018-06-02  14212.166667\n",
      "2018-06-03  13824.625000\n",
      "2018-06-04  14127.500000\n",
      "\n",
      "[4995 rows x 1 columns]\n"
     ]
    }
   ],
   "source": [
    "Training_Set = NewDataSet.iloc[:,0:1]\n",
    "print(Training_Set)\n",
    "TestData = NewDataSet.tail(100)\n",
    "print(TestData)\n",
    "Training_Set = Training_Set[:-60]\n",
    "print(Training_Set)"
   ]
  },
  {
   "cell_type": "markdown",
   "metadata": {},
   "source": [
    "## FEATURE SCALING"
   ]
  },
  {
   "cell_type": "code",
   "execution_count": 14,
   "metadata": {},
   "outputs": [],
   "source": [
    "from sklearn.preprocessing import MinMaxScaler\n",
    "sc = MinMaxScaler()\n",
    "Train = sc.fit_transform(Training_Set)"
   ]
  },
  {
   "cell_type": "markdown",
   "metadata": {},
   "source": [
    "## MODEL"
   ]
  },
  {
   "cell_type": "code",
   "execution_count": 15,
   "metadata": {},
   "outputs": [
    {
     "name": "stdout",
     "output_type": "stream",
     "text": [
      "(4935, 60, 1)\n",
      "(4935, 1)\n"
     ]
    }
   ],
   "source": [
    "X_Train = []\n",
    "Y_Train = []\n",
    "\n",
    "# Range should be from 60 Values to END \n",
    "for i in range(60, Train.shape[0]):\n",
    "    \n",
    "    # X_Train 0-59 \n",
    "    X_Train.append(Train[i-60:i])\n",
    "    \n",
    "    # Y Would be 60 th Value based on past 60 Values \n",
    "    Y_Train.append(Train[i])\n",
    "\n",
    "# Convert into Numpy Array\n",
    "X_Train = np.array(X_Train)\n",
    "Y_Train = np.array(Y_Train)\n",
    "\n",
    "print(X_Train.shape)\n",
    "print(Y_Train.shape)"
   ]
  },
  {
   "cell_type": "code",
   "execution_count": 16,
   "metadata": {},
   "outputs": [],
   "source": [
    "from keras.models import Sequential\n",
    "from keras.layers import Dense,LSTM\n",
    "from tensorflow.keras.layers import Dense, Dropout\n",
    "\n",
    "regressor = Sequential()\n",
    "\n",
    "# Adding the first LSTM layer and some Dropout regularisation\n",
    "regressor.add(LSTM(units = 50, return_sequences = True, input_shape = (X_Train.shape[1], 1)))\n",
    "regressor.add(Dropout(0.2))\n",
    "\n",
    "# Adding a second LSTM layer and some Dropout regularisation\n",
    "regressor.add(LSTM(units = 50, return_sequences = True))\n",
    "regressor.add(Dropout(0.2))\n",
    "\n",
    "# Adding a third LSTM layer and some Dropout regularisation\n",
    "regressor.add(LSTM(units = 50, return_sequences = True))\n",
    "regressor.add(Dropout(0.2))\n",
    "\n",
    "# Adding a fourth LSTM layer and some Dropout regularisation\n",
    "regressor.add(LSTM(units = 50))\n",
    "regressor.add(Dropout(0.2))\n",
    "\n",
    "# Adding the output layer\n",
    "regressor.add(Dense(units = 1))\n",
    "\n",
    "# Compiling the RNN\n",
    "regressor.compile(optimizer = 'adam', loss = 'mse',)"
   ]
  },
  {
   "cell_type": "code",
   "execution_count": 17,
   "metadata": {},
   "outputs": [
    {
     "name": "stdout",
     "output_type": "stream",
     "text": [
      "Epoch 1/50\n",
      "155/155 [==============================] - 21s 133ms/step - loss: 0.02291s -\n",
      "Epoch 2/50\n",
      "155/155 [==============================] - 21s 137ms/step - loss: 0.0181\n",
      "Epoch 3/50\n",
      "155/155 [==============================] - 21s 136ms/step - loss: 0.0175\n",
      "Epoch 4/50\n",
      "155/155 [==============================] - 22s 139ms/step - loss: 0.0163\n",
      "Epoch 5/50\n",
      "155/155 [==============================] - 22s 139ms/step - loss: 0.0160\n",
      "Epoch 6/50\n",
      "155/155 [==============================] - 21s 133ms/step - loss: 0.0156\n",
      "Epoch 7/50\n",
      "155/155 [==============================] - 22s 144ms/step - loss: 0.0150\n",
      "Epoch 8/50\n",
      "155/155 [==============================] - 25s 160ms/step - loss: 0.0142\n",
      "Epoch 9/50\n",
      "155/155 [==============================] - 23s 146ms/step - loss: 0.0121\n",
      "Epoch 10/50\n",
      "155/155 [==============================] - 22s 142ms/step - loss: 0.0106\n",
      "Epoch 11/50\n",
      "155/155 [==============================] - 22s 141ms/step - loss: 0.0098\n",
      "Epoch 12/50\n",
      "155/155 [==============================] - 21s 135ms/step - loss: 0.0091\n",
      "Epoch 13/50\n",
      "155/155 [==============================] - 21s 138ms/step - loss: 0.0087\n",
      "Epoch 14/50\n",
      "155/155 [==============================] - 22s 143ms/step - loss: 0.0081\n",
      "Epoch 15/50\n",
      "155/155 [==============================] - 21s 134ms/step - loss: 0.0080\n",
      "Epoch 16/50\n",
      "155/155 [==============================] - 21s 134ms/step - loss: 0.0076\n",
      "Epoch 17/50\n",
      "155/155 [==============================] - 21s 134ms/step - loss: 0.0075\n",
      "Epoch 18/50\n",
      "155/155 [==============================] - 21s 135ms/step - loss: 0.0073\n",
      "Epoch 19/50\n",
      "155/155 [==============================] - 21s 137ms/step - loss: 0.0073\n",
      "Epoch 20/50\n",
      "155/155 [==============================] - 21s 134ms/step - loss: 0.0069\n",
      "Epoch 21/50\n",
      "155/155 [==============================] - 21s 134ms/step - loss: 0.0070\n",
      "Epoch 22/50\n",
      "155/155 [==============================] - 21s 135ms/step - loss: 0.0066\n",
      "Epoch 23/50\n",
      "155/155 [==============================] - 21s 134ms/step - loss: 0.0062\n",
      "Epoch 24/50\n",
      "155/155 [==============================] - 21s 134ms/step - loss: 0.0062\n",
      "Epoch 25/50\n",
      "155/155 [==============================] - 21s 137ms/step - loss: 0.0059\n",
      "Epoch 26/50\n",
      "155/155 [==============================] - 22s 142ms/step - loss: 0.0058\n",
      "Epoch 27/50\n",
      "155/155 [==============================] - 21s 137ms/step - loss: 0.0057\n",
      "Epoch 28/50\n",
      "155/155 [==============================] - 21s 135ms/step - loss: 0.0055\n",
      "Epoch 29/50\n",
      "155/155 [==============================] - 21s 135ms/step - loss: 0.0052\n",
      "Epoch 30/50\n",
      "155/155 [==============================] - 21s 135ms/step - loss: 0.0053\n",
      "Epoch 31/50\n",
      "155/155 [==============================] - 23s 149ms/step - loss: 0.0052\n",
      "Epoch 32/50\n",
      "155/155 [==============================] - 21s 135ms/step - loss: 0.0050\n",
      "Epoch 33/50\n",
      "155/155 [==============================] - 22s 139ms/step - loss: 0.0051\n",
      "Epoch 34/50\n",
      "155/155 [==============================] - 21s 134ms/step - loss: 0.0049\n",
      "Epoch 35/50\n",
      "155/155 [==============================] - 21s 135ms/step - loss: 0.0049\n",
      "Epoch 36/50\n",
      "155/155 [==============================] - 21s 135ms/step - loss: 0.0048\n",
      "Epoch 37/50\n",
      "155/155 [==============================] - 21s 134ms/step - loss: 0.0048\n",
      "Epoch 38/50\n",
      "155/155 [==============================] - 21s 134ms/step - loss: 0.0048\n",
      "Epoch 39/50\n",
      "155/155 [==============================] - 21s 135ms/step - loss: 0.0048\n",
      "Epoch 40/50\n",
      "155/155 [==============================] - 21s 134ms/step - loss: 0.0045\n",
      "Epoch 41/50\n",
      "155/155 [==============================] - 21s 135ms/step - loss: 0.0046\n",
      "Epoch 42/50\n",
      "155/155 [==============================] - 21s 136ms/step - loss: 0.0046\n",
      "Epoch 43/50\n",
      "155/155 [==============================] - 21s 138ms/step - loss: 0.0044\n",
      "Epoch 44/50\n",
      "155/155 [==============================] - 21s 135ms/step - loss: 0.0044\n",
      "Epoch 45/50\n",
      "155/155 [==============================] - 21s 135ms/step - loss: 0.0044\n",
      "Epoch 46/50\n",
      "155/155 [==============================] - 21s 136ms/step - loss: 0.0043\n",
      "Epoch 47/50\n",
      "155/155 [==============================] - 21s 136ms/step - loss: 0.0045\n",
      "Epoch 48/50\n",
      "155/155 [==============================] - 22s 142ms/step - loss: 0.0044\n",
      "Epoch 49/50\n",
      "155/155 [==============================] - 21s 134ms/step - loss: 0.0044\n",
      "Epoch 50/50\n",
      "155/155 [==============================] - 21s 134ms/step - loss: 0.0044\n"
     ]
    },
    {
     "data": {
      "text/plain": [
       "<tensorflow.python.keras.callbacks.History at 0x171676d95b0>"
      ]
     },
     "execution_count": 17,
     "metadata": {},
     "output_type": "execute_result"
    }
   ],
   "source": [
    "regressor.fit(X_Train, Y_Train, epochs = 50, batch_size = 32)"
   ]
  },
  {
   "cell_type": "markdown",
   "metadata": {},
   "source": [
    "## TEST DATA"
   ]
  },
  {
   "cell_type": "code",
   "execution_count": 18,
   "metadata": {},
   "outputs": [
    {
     "data": {
      "text/html": [
       "<div>\n",
       "<style scoped>\n",
       "    .dataframe tbody tr th:only-of-type {\n",
       "        vertical-align: middle;\n",
       "    }\n",
       "\n",
       "    .dataframe tbody tr th {\n",
       "        vertical-align: top;\n",
       "    }\n",
       "\n",
       "    .dataframe thead th {\n",
       "        text-align: right;\n",
       "    }\n",
       "</style>\n",
       "<table border=\"1\" class=\"dataframe\">\n",
       "  <thead>\n",
       "    <tr style=\"text-align: right;\">\n",
       "      <th></th>\n",
       "      <th>AEP_MW</th>\n",
       "      <th>Month</th>\n",
       "      <th>Year</th>\n",
       "      <th>Week</th>\n",
       "    </tr>\n",
       "    <tr>\n",
       "      <th>Datetime</th>\n",
       "      <th></th>\n",
       "      <th></th>\n",
       "      <th></th>\n",
       "      <th></th>\n",
       "    </tr>\n",
       "  </thead>\n",
       "  <tbody>\n",
       "    <tr>\n",
       "      <th>2018-04-26</th>\n",
       "      <td>13157.791667</td>\n",
       "      <td>4</td>\n",
       "      <td>2018</td>\n",
       "      <td>17</td>\n",
       "    </tr>\n",
       "    <tr>\n",
       "      <th>2018-04-27</th>\n",
       "      <td>12964.000000</td>\n",
       "      <td>4</td>\n",
       "      <td>2018</td>\n",
       "      <td>17</td>\n",
       "    </tr>\n",
       "    <tr>\n",
       "      <th>2018-04-28</th>\n",
       "      <td>12237.583333</td>\n",
       "      <td>4</td>\n",
       "      <td>2018</td>\n",
       "      <td>17</td>\n",
       "    </tr>\n",
       "    <tr>\n",
       "      <th>2018-04-29</th>\n",
       "      <td>12156.791667</td>\n",
       "      <td>4</td>\n",
       "      <td>2018</td>\n",
       "      <td>17</td>\n",
       "    </tr>\n",
       "    <tr>\n",
       "      <th>2018-04-30</th>\n",
       "      <td>13443.500000</td>\n",
       "      <td>4</td>\n",
       "      <td>2018</td>\n",
       "      <td>18</td>\n",
       "    </tr>\n",
       "  </tbody>\n",
       "</table>\n",
       "</div>"
      ],
      "text/plain": [
       "                  AEP_MW  Month  Year  Week\n",
       "Datetime                                   \n",
       "2018-04-26  13157.791667      4  2018    17\n",
       "2018-04-27  12964.000000      4  2018    17\n",
       "2018-04-28  12237.583333      4  2018    17\n",
       "2018-04-29  12156.791667      4  2018    17\n",
       "2018-04-30  13443.500000      4  2018    18"
      ]
     },
     "execution_count": 18,
     "metadata": {},
     "output_type": "execute_result"
    }
   ],
   "source": [
    "TestData.head()"
   ]
  },
  {
   "cell_type": "code",
   "execution_count": 19,
   "metadata": {},
   "outputs": [],
   "source": [
    "Df_Total = pd.concat((NewDataSet[[\"AEP_MW\"]], TestData[[\"AEP_MW\"]]), axis=0)"
   ]
  },
  {
   "cell_type": "code",
   "execution_count": 20,
   "metadata": {},
   "outputs": [
    {
     "data": {
      "text/plain": [
       "(5155, 1)"
      ]
     },
     "execution_count": 20,
     "metadata": {},
     "output_type": "execute_result"
    }
   ],
   "source": [
    "Df_Total.shape"
   ]
  },
  {
   "cell_type": "code",
   "execution_count": 21,
   "metadata": {},
   "outputs": [
    {
     "data": {
      "text/plain": [
       "(160, 1)"
      ]
     },
     "execution_count": 21,
     "metadata": {},
     "output_type": "execute_result"
    }
   ],
   "source": [
    "inputs = Df_Total[len(Df_Total) - len(TestData) - 60:].values\n",
    "inputs.shape"
   ]
  },
  {
   "cell_type": "code",
   "execution_count": 22,
   "metadata": {},
   "outputs": [],
   "source": [
    "inputs = Df_Total[len(Df_Total) - len(TestData) - 60:].values\n",
    "\n",
    "# We need to Reshape\n",
    "inputs = inputs.reshape(-1,1)\n",
    "\n",
    "# Normalize the Dataset\n",
    "inputs = sc.transform(inputs)\n",
    "\n",
    "X_test = []\n",
    "for i in range(60, 160):\n",
    "    X_test.append(inputs[i-60:i])\n",
    "    \n",
    "# Convert into Numpy Array\n",
    "X_test = np.array(X_test)\n",
    "\n",
    "# Reshape before Passing to Network\n",
    "X_test = np.reshape(X_test, (X_test.shape[0], X_test.shape[1], 1))\n",
    "\n",
    "# Pass to Model \n",
    "predicted_consumption = regressor.predict(X_test)\n",
    "\n",
    "# Do inverse Transformation to get Values \n",
    "predicted_consumption = sc.inverse_transform(predicted_consumption)"
   ]
  },
  {
   "cell_type": "markdown",
   "metadata": {},
   "source": [
    "## PREDICTION"
   ]
  },
  {
   "cell_type": "code",
   "execution_count": 23,
   "metadata": {},
   "outputs": [],
   "source": [
    "True_consumption = TestData[\"AEP_MW\"].to_list()\n",
    "Predicted_consumption  = predicted_consumption\n",
    "dates = TestData.index.to_list()"
   ]
  },
  {
   "cell_type": "code",
   "execution_count": 24,
   "metadata": {},
   "outputs": [
    {
     "data": {
      "text/html": [
       "<div>\n",
       "<style scoped>\n",
       "    .dataframe tbody tr th:only-of-type {\n",
       "        vertical-align: middle;\n",
       "    }\n",
       "\n",
       "    .dataframe tbody tr th {\n",
       "        vertical-align: top;\n",
       "    }\n",
       "\n",
       "    .dataframe thead th {\n",
       "        text-align: right;\n",
       "    }\n",
       "</style>\n",
       "<table border=\"1\" class=\"dataframe\">\n",
       "  <thead>\n",
       "    <tr style=\"text-align: right;\">\n",
       "      <th></th>\n",
       "      <th>Date</th>\n",
       "      <th>TrueMegaWatt</th>\n",
       "      <th>PredictedMeagWatt</th>\n",
       "    </tr>\n",
       "  </thead>\n",
       "  <tbody>\n",
       "    <tr>\n",
       "      <th>0</th>\n",
       "      <td>2018-04-26</td>\n",
       "      <td>13157.791667</td>\n",
       "      <td>13448.941406</td>\n",
       "    </tr>\n",
       "    <tr>\n",
       "      <th>1</th>\n",
       "      <td>2018-04-27</td>\n",
       "      <td>12964.000000</td>\n",
       "      <td>13217.582031</td>\n",
       "    </tr>\n",
       "    <tr>\n",
       "      <th>2</th>\n",
       "      <td>2018-04-28</td>\n",
       "      <td>12237.583333</td>\n",
       "      <td>14778.757812</td>\n",
       "    </tr>\n",
       "    <tr>\n",
       "      <th>3</th>\n",
       "      <td>2018-04-29</td>\n",
       "      <td>12156.791667</td>\n",
       "      <td>13293.821289</td>\n",
       "    </tr>\n",
       "    <tr>\n",
       "      <th>4</th>\n",
       "      <td>2018-04-30</td>\n",
       "      <td>13443.500000</td>\n",
       "      <td>12952.819336</td>\n",
       "    </tr>\n",
       "    <tr>\n",
       "      <th>...</th>\n",
       "      <td>...</td>\n",
       "      <td>...</td>\n",
       "      <td>...</td>\n",
       "    </tr>\n",
       "    <tr>\n",
       "      <th>95</th>\n",
       "      <td>2018-07-30</td>\n",
       "      <td>15368.083333</td>\n",
       "      <td>15505.644531</td>\n",
       "    </tr>\n",
       "    <tr>\n",
       "      <th>96</th>\n",
       "      <td>2018-07-31</td>\n",
       "      <td>15180.291667</td>\n",
       "      <td>15630.995117</td>\n",
       "    </tr>\n",
       "    <tr>\n",
       "      <th>97</th>\n",
       "      <td>2018-08-01</td>\n",
       "      <td>15151.166667</td>\n",
       "      <td>15175.851562</td>\n",
       "    </tr>\n",
       "    <tr>\n",
       "      <th>98</th>\n",
       "      <td>2018-08-02</td>\n",
       "      <td>15687.666667</td>\n",
       "      <td>14968.525391</td>\n",
       "    </tr>\n",
       "    <tr>\n",
       "      <th>99</th>\n",
       "      <td>2018-08-03</td>\n",
       "      <td>14809.000000</td>\n",
       "      <td>15167.791992</td>\n",
       "    </tr>\n",
       "  </tbody>\n",
       "</table>\n",
       "<p>100 rows × 3 columns</p>\n",
       "</div>"
      ],
      "text/plain": [
       "         Date  TrueMegaWatt  PredictedMeagWatt\n",
       "0  2018-04-26  13157.791667       13448.941406\n",
       "1  2018-04-27  12964.000000       13217.582031\n",
       "2  2018-04-28  12237.583333       14778.757812\n",
       "3  2018-04-29  12156.791667       13293.821289\n",
       "4  2018-04-30  13443.500000       12952.819336\n",
       "..        ...           ...                ...\n",
       "95 2018-07-30  15368.083333       15505.644531\n",
       "96 2018-07-31  15180.291667       15630.995117\n",
       "97 2018-08-01  15151.166667       15175.851562\n",
       "98 2018-08-02  15687.666667       14968.525391\n",
       "99 2018-08-03  14809.000000       15167.791992\n",
       "\n",
       "[100 rows x 3 columns]"
      ]
     },
     "execution_count": 24,
     "metadata": {},
     "output_type": "execute_result"
    }
   ],
   "source": [
    "Machine_Df = pd.DataFrame(data={\"Date\":dates, \"TrueMegaWatt\": True_consumption, \"PredictedMeagWatt\":[x[0] for x in Predicted_consumption]})\n",
    "Machine_Df"
   ]
  },
  {
   "cell_type": "code",
   "execution_count": 25,
   "metadata": {},
   "outputs": [],
   "source": [
    "True_consumption = TestData[\"AEP_MW\"].to_list()\n",
    "Predicted_consumption  = [x[0] for x in Predicted_consumption ]\n",
    "dates = TestData.index.to_list()"
   ]
  },
  {
   "cell_type": "markdown",
   "metadata": {},
   "source": [
    "## FINAL VISUALISATION FOR PREDICTION"
   ]
  },
  {
   "cell_type": "code",
   "execution_count": 26,
   "metadata": {},
   "outputs": [
    {
     "name": "stderr",
     "output_type": "stream",
     "text": [
      "No handles with labels found to put in legend.\n"
     ]
    },
    {
     "data": {
      "text/plain": [
       "<matplotlib.legend.Legend at 0x1715e362f40>"
      ]
     },
     "execution_count": 26,
     "metadata": {},
     "output_type": "execute_result"
    },
    {
     "data": {
      "image/png": "[encoded data removed]",
      "text/plain": [
       "<Figure size 432x288 with 1 Axes>"
      ]
     },
     "metadata": {
      "needs_background": "light"
     },
     "output_type": "display_data"
    }
   ],
   "source": [
    "x = dates\n",
    "y = True_consumption\n",
    "y1 = Predicted_consumption\n",
    "\n",
    "plt.plot(x,y, color=\"green\")\n",
    "plt.plot(x,y1, color=\"red\")\n",
    "\n",
    "# beautify the x-labels\n",
    "plt.gcf().autofmt_xdate()\n",
    "plt.xlabel('\\nDates')\n",
    "plt.ylabel(\"Energy Consumption\\n\")\n",
    "plt.title(\"ACTUAL & PREDICTED Values Graph\\n\")\n",
    "plt.legend()"
   ]
  }
 ],
 "metadata": {
  "kernelspec": {
   "display_name": "Python 3",
   "language": "python",
   "name": "python3"
  },
  "language_info": {
   "codemirror_mode": {
    "name": "ipython",
    "version": 3
   },
   "file_extension": ".py",
   "mimetype": "text/x-python",
   "name": "python",
   "nbconvert_exporter": "python",
   "pygments_lexer": "ipython3",
   "version": "3.8.5"
  }
 },
 "nbformat": 4,
 "nbformat_minor": 4
}
